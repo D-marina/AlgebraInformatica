{
 "cells": [
  {
   "cell_type": "markdown",
   "metadata": {},
   "source": [
    "# Introducción"
   ]
  },
  {
   "cell_type": "markdown",
   "metadata": {},
   "source": [
    "## Manejo del notebook"
   ]
  },
  {
   "cell_type": "markdown",
   "metadata": {},
   "source": [
    "Los notebooks de Jupyter tienen dos modos: modo _texto_ y modo _código_. En el primero, se permite escribir cadenas de texto como esta que estás leyendo; en el segundo, lo que se escriba se interpreta como código que se ejecutará en Python."
   ]
  },
  {
   "cell_type": "markdown",
   "metadata": {},
   "source": [
    "Cuando seleccionamos una celda, su entorno cambia de color: se vuelve azul si estamos en modo _editar_ celda o verde si estamos en modo _escritura_ en la celda."
   ]
  },
  {
   "cell_type": "markdown",
   "metadata": {},
   "source": [
    "Si queremos pasar de un modo a otro, tendremos que pulsar Escape para entrar en el modo edición y Enter, para el modo escritura."
   ]
  },
  {
   "cell_type": "markdown",
   "metadata": {},
   "source": [
    "Mientras que estamos en el modo edición, las letras realizan distintos comandos:\n",
    " - A: Crea una celda arriba de la actual.\n",
    " - B: Crea una celda bajo la actual.\n",
    " - X: Corta una celda.\n",
    " - C: Copia una celda.\n",
    " - V: Pega una celda\n",
    " - Y: Indica que la celda contiene código para ser evaluado.\n",
    " - M: Indica que la celda contiene texto."
   ]
  },
  {
   "cell_type": "markdown",
   "metadata": {},
   "source": [
    "Cuando estemos en el modo escritura, para evaluar la celda tendremos que pulsar _Mayúscula+Enter_. Si la celda tenía un código lo ejecutará y si tiene un texto, lo mostrará por pantalla. Notemos que cuando escribimos texto, podemos utilizar Markdown, LaTeX y html para obtener los resultados que queramos."
   ]
  },
  {
   "cell_type": "markdown",
   "metadata": {},
   "source": [
    "## Operaciones básicas"
   ]
  },
  {
   "cell_type": "markdown",
   "metadata": {},
   "source": []
  }
 ],
 "metadata": {
  "kernelspec": {
   "display_name": "Python 3",
   "language": "python",
   "name": "python3"
  },
  "language_info": {
   "codemirror_mode": {
    "name": "ipython",
    "version": 3
   },
   "file_extension": ".py",
   "mimetype": "text/x-python",
   "name": "python",
   "nbconvert_exporter": "python",
   "pygments_lexer": "ipython3",
   "version": "3.7.4"
  }
 },
 "nbformat": 4,
 "nbformat_minor": 2
}
